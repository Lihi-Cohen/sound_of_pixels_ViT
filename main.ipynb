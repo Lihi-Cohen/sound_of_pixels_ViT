{
 "cells": [
  {
   "cell_type": "markdown",
   "source": [
    "# Pre"
   ],
   "metadata": {
    "collapsed": false
   },
   "id": "d0f020b211679f8b"
  },
  {
   "cell_type": "code",
   "outputs": [],
   "source": [
    "!pip install torch torchvision\n",
    "!pip install numpy matplotlib\n",
    "!pip install yt_dlp\n",
    "!pip install mir_eval"
   ],
   "metadata": {
    "collapsed": false
   },
   "id": "4e4a3e46782bc757"
  },
  {
   "cell_type": "code",
   "execution_count": null,
   "id": "initial_id",
   "metadata": {
    "collapsed": true
   },
   "outputs": [],
   "source": [
    "!git clone https://github.com/Lihi-Cohen/sound_of_pixels_ViT.git\n"
   ]
  },
  {
   "cell_type": "code",
   "outputs": [],
   "source": [
    "%cd sound_of_pixels_ViT"
   ],
   "metadata": {
    "collapsed": false
   },
   "id": "3fb699aa1310a514"
  },
  {
   "cell_type": "markdown",
   "source": [
    "# Download the Dataset"
   ],
   "metadata": {
    "collapsed": false
   },
   "id": "aeb5546203f6e5ef"
  },
  {
   "cell_type": "code",
   "outputs": [],
   "source": [
    "!python part1_v2.py\n",
    "!python part_2_v3.py"
   ],
   "metadata": {
    "collapsed": false
   },
   "id": "8117e3ca3fbca138"
  },
  {
   "cell_type": "markdown",
   "source": [
    "# Preprocessing"
   ],
   "metadata": {
    "collapsed": false
   },
   "id": "423defe18e5c8ef2"
  },
  {
   "cell_type": "code",
   "outputs": [],
   "source": [
    "# Create indexing for training and validation data sets - run once\n",
    "!python scripts/create_index_files.py\n",
    "\n",
    "# create index files for evaluation - run once\n",
    "!python scripts/create_index_files_vis.py"
   ],
   "metadata": {
    "collapsed": false
   },
   "id": "82f48b3ad19f6da3"
  },
  {
   "cell_type": "code",
   "outputs": [],
   "source": [
    "# download original weights - run once\n",
    "!chmod +x scripts/download_trained_model.sh\n",
    "!bash scripts/download_trained_model.sh\n",
    "\n",
    "# For Linux - Run this: \n",
    "# !chmod +x model_linux.sh\n",
    "# !bash model_linux.sh"
   ],
   "metadata": {
    "collapsed": false
   },
   "id": "7281453fd2bfbf1e"
  },
  {
   "cell_type": "markdown",
   "source": [
    "# Training and Evaluating Stage 1"
   ],
   "metadata": {
    "collapsed": false
   },
   "id": "e164238b63e8c03e"
  },
  {
   "cell_type": "code",
   "outputs": [],
   "source": [
    "# Training stage 1\n",
    "!chmod +x scripts/train_stg1_v1.sh\n",
    "!bash scripts/train_stg1_v1.sh\n",
    "\n",
    "# evaluation stage 1\n",
    "!chmod +x scripts/eval_stg1_v1.sh\n",
    "!bash scripts/eval_stg1_v1.sh"
   ],
   "metadata": {
    "collapsed": false
   },
   "id": "4ece68395ff56aeb"
  },
  {
   "cell_type": "markdown",
   "source": [
    "# Training and Evaluating Stage 2\n"
   ],
   "metadata": {
    "collapsed": false
   },
   "id": "b8440090a2e18039"
  },
  {
   "cell_type": "code",
   "outputs": [],
   "source": [
    "# Training stage 2\n",
    "!chmod +x scripts/train_stg2_v1.sh\n",
    "!bash scripts/train_stg2_v1.sh\n",
    "\n",
    "# evaluation stage 2\n",
    "!chmod +x scripts/eval_stg2_v1.sh\n",
    "!bash scripts/eval_stg2_v1.sh"
   ],
   "metadata": {
    "collapsed": false
   },
   "id": "a6206d2dbbb85742"
  },
  {
   "cell_type": "markdown",
   "source": [
    "# Training and Evaluating Stage 3\n",
    "\n"
   ],
   "metadata": {
    "collapsed": false
   },
   "id": "543322dc757fd9e0"
  },
  {
   "cell_type": "code",
   "outputs": [],
   "source": [
    "# Training stage 3\n",
    "!chmod +x scripts/train_stg3_v1.sh\n",
    "!bash scripts/train_stg3_v1.sh\n",
    "\n",
    "# evaluation stage 3\n",
    "!chmod +x scripts/eval_stg3_v1.sh\n",
    "!bash scripts/eval_stg3_v1.sh"
   ],
   "metadata": {
    "collapsed": false
   },
   "id": "667101f103fc24b9"
  }
 ],
 "metadata": {
  "kernelspec": {
   "display_name": "Python 3",
   "language": "python",
   "name": "python3"
  },
  "language_info": {
   "codemirror_mode": {
    "name": "ipython",
    "version": 2
   },
   "file_extension": ".py",
   "mimetype": "text/x-python",
   "name": "python",
   "nbconvert_exporter": "python",
   "pygments_lexer": "ipython2",
   "version": "2.7.6"
  }
 },
 "nbformat": 4,
 "nbformat_minor": 5
}
